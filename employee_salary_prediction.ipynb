{
  "cells": [
    {
      "cell_type": "code",
      "execution_count": null,
      "id": "7adfd133-31a6-4ebc-bade-eb44f5de869d",
      "metadata": {
        "id": "7adfd133-31a6-4ebc-bade-eb44f5de869d"
      },
      "outputs": [],
      "source": [
        "import pandas as pd"
      ]
    },
    {
      "cell_type": "code",
      "execution_count": null,
      "id": "9e0850d8-ee98-4931-9784-b6a2ed85d692",
      "metadata": {
        "id": "9e0850d8-ee98-4931-9784-b6a2ed85d692"
      },
      "outputs": [],
      "source": [
        "data=pd.read_csv(\"/content/adult 3.csv\")"
      ]
    },
    {
      "cell_type": "code",
      "execution_count": null,
      "id": "077f993f-3d16-4cc9-83d6-d81e7514f9c0",
      "metadata": {
        "id": "077f993f-3d16-4cc9-83d6-d81e7514f9c0"
      },
      "outputs": [],
      "source": [
        "data.head(10)"
      ]
    },
    {
      "cell_type": "code",
      "execution_count": null,
      "id": "66c1988b-d8fb-4972-884f-a1d9dc2aff45",
      "metadata": {
        "id": "66c1988b-d8fb-4972-884f-a1d9dc2aff45"
      },
      "outputs": [],
      "source": [
        "data.tail(3)"
      ]
    },
    {
      "cell_type": "code",
      "execution_count": null,
      "id": "329e3b00-3b13-4a13-ba9f-04d84be72ed5",
      "metadata": {
        "id": "329e3b00-3b13-4a13-ba9f-04d84be72ed5"
      },
      "outputs": [],
      "source": [
        "data.shape"
      ]
    },
    {
      "cell_type": "code",
      "execution_count": null,
      "id": "ae99428f-5fc8-4963-9d9d-7b9df684bbd1",
      "metadata": {
        "id": "ae99428f-5fc8-4963-9d9d-7b9df684bbd1"
      },
      "outputs": [],
      "source": [
        "#null values\n",
        "data.isna().sum() #mean mdeian mode arbitrary"
      ]
    },
    {
      "cell_type": "code",
      "execution_count": null,
      "id": "7e7213c4-6bf2-49ec-9db1-4aa91a4e78d1",
      "metadata": {
        "id": "7e7213c4-6bf2-49ec-9db1-4aa91a4e78d1"
      },
      "outputs": [],
      "source": [
        "print(data.workclass.value_counts())"
      ]
    },
    {
      "cell_type": "code",
      "execution_count": null,
      "id": "d571ef53-21b0-4445-9b4f-4ee19cd425f2",
      "metadata": {
        "id": "d571ef53-21b0-4445-9b4f-4ee19cd425f2"
      },
      "outputs": [],
      "source": [
        "data.workclass.replace({'?':'Others'},inplace=True)\n",
        "print(data['workclass'].value_counts())"
      ]
    },
    {
      "cell_type": "code",
      "execution_count": null,
      "id": "898305d1-4af6-4ee5-b0bd-652da2788c91",
      "metadata": {
        "id": "898305d1-4af6-4ee5-b0bd-652da2788c91"
      },
      "outputs": [],
      "source": [
        "print(data['occupation'].value_counts())"
      ]
    },
    {
      "cell_type": "code",
      "execution_count": null,
      "id": "9c44e548-043e-4044-9002-ddd555b68ae0",
      "metadata": {
        "id": "9c44e548-043e-4044-9002-ddd555b68ae0"
      },
      "outputs": [],
      "source": [
        "data.occupation.replace({'?':'Others'},inplace=True)\n",
        "print(data['occupation'].value_counts())"
      ]
    },
    {
      "cell_type": "code",
      "execution_count": null,
      "id": "67f1a1d8-8518-4819-9f75-333a96029435",
      "metadata": {
        "id": "67f1a1d8-8518-4819-9f75-333a96029435"
      },
      "outputs": [],
      "source": [
        "data=data[data['workclass']!='Without-pay']\n",
        "data=data[data['workclass']!='Never-worked']\n",
        "print(data['workclass'].value_counts())"
      ]
    },
    {
      "cell_type": "code",
      "execution_count": null,
      "id": "d29e127d-087e-4b08-8c5e-58b5a56ace93",
      "metadata": {
        "id": "d29e127d-087e-4b08-8c5e-58b5a56ace93"
      },
      "outputs": [],
      "source": [
        "print(data.relationship.value_counts())"
      ]
    },
    {
      "cell_type": "code",
      "execution_count": null,
      "id": "26c8210a-35ec-4b22-bec0-3bf79623d8c1",
      "metadata": {
        "id": "26c8210a-35ec-4b22-bec0-3bf79623d8c1"
      },
      "outputs": [],
      "source": [
        "print(data.gender.value_counts())"
      ]
    },
    {
      "cell_type": "code",
      "execution_count": null,
      "id": "4258879c-e54d-46c7-9626-1fc42b106fc4",
      "metadata": {
        "id": "4258879c-e54d-46c7-9626-1fc42b106fc4"
      },
      "outputs": [],
      "source": [
        "data.shape"
      ]
    },
    {
      "cell_type": "code",
      "execution_count": null,
      "id": "13f0f346-9c75-4ab3-81ef-d31c22d9bbb0",
      "metadata": {
        "id": "13f0f346-9c75-4ab3-81ef-d31c22d9bbb0"
      },
      "outputs": [],
      "source": [
        "#outlier detection\n",
        "import matplotlib.pyplot as plt   #visualization\n",
        "plt.boxplot(data['age'])\n",
        "plt.show()"
      ]
    },
    {
      "cell_type": "code",
      "execution_count": null,
      "id": "e7421637-2e0d-4ea3-9c6f-00ee1daace5b",
      "metadata": {
        "id": "e7421637-2e0d-4ea3-9c6f-00ee1daace5b"
      },
      "outputs": [],
      "source": [
        "data=data[(data['age']<=75)&(data['age']>=17)]"
      ]
    },
    {
      "cell_type": "code",
      "execution_count": null,
      "id": "5fec362e-dba4-439d-be72-c62e5b8ad85a",
      "metadata": {
        "id": "5fec362e-dba4-439d-be72-c62e5b8ad85a"
      },
      "outputs": [],
      "source": [
        "plt.boxplot(data['age'])\n",
        "plt.show()"
      ]
    },
    {
      "cell_type": "code",
      "execution_count": null,
      "id": "c807737c-52da-433a-98a6-9903dbbbd7b1",
      "metadata": {
        "id": "c807737c-52da-433a-98a6-9903dbbbd7b1"
      },
      "outputs": [],
      "source": [
        "data.shape"
      ]
    },
    {
      "cell_type": "code",
      "execution_count": null,
      "id": "6a26cdbe-7446-4f44-8b0e-c1964a2328fb",
      "metadata": {
        "id": "6a26cdbe-7446-4f44-8b0e-c1964a2328fb"
      },
      "outputs": [],
      "source": [
        "plt.boxplot(data['capital-gain'])\n",
        "plt.show()"
      ]
    },
    {
      "cell_type": "code",
      "execution_count": null,
      "id": "e43fabf9-2d4c-4030-98fb-6c8e6d119ae5",
      "metadata": {
        "id": "e43fabf9-2d4c-4030-98fb-6c8e6d119ae5"
      },
      "outputs": [],
      "source": [
        "plt.boxplot(data['capital-gain'])\n",
        "plt.show()"
      ]
    },
    {
      "cell_type": "code",
      "execution_count": null,
      "id": "c39b9cc2-f785-4c2d-abd3-920f703eac79",
      "metadata": {
        "id": "c39b9cc2-f785-4c2d-abd3-920f703eac79"
      },
      "outputs": [],
      "source": [
        "plt.boxplot(data['educational-num'])\n",
        "plt.show()"
      ]
    },
    {
      "cell_type": "code",
      "execution_count": null,
      "id": "38d68bc8-4cdb-46fb-a031-749dbab9458c",
      "metadata": {
        "id": "38d68bc8-4cdb-46fb-a031-749dbab9458c"
      },
      "outputs": [],
      "source": [
        "data=data[(data['educational-num']<=16)&(data['educational-num']>=5)]"
      ]
    },
    {
      "cell_type": "code",
      "execution_count": null,
      "id": "76a85afc-8d86-4855-b12f-13a7bc50fa88",
      "metadata": {
        "id": "76a85afc-8d86-4855-b12f-13a7bc50fa88"
      },
      "outputs": [],
      "source": [
        "plt.boxplot(data['educational-num'])\n",
        "plt.show()"
      ]
    },
    {
      "cell_type": "code",
      "execution_count": null,
      "id": "7356437a-c046-487b-a5ec-a083d1bf5c1e",
      "metadata": {
        "id": "7356437a-c046-487b-a5ec-a083d1bf5c1e"
      },
      "outputs": [],
      "source": [
        "plt.boxplot(data['hours-per-week'])\n",
        "plt.show()"
      ]
    },
    {
      "cell_type": "code",
      "execution_count": null,
      "id": "8eb6e336-5d53-4529-bc91-8fb5a08e3a98",
      "metadata": {
        "id": "8eb6e336-5d53-4529-bc91-8fb5a08e3a98"
      },
      "outputs": [],
      "source": [
        "data.shape"
      ]
    },
    {
      "cell_type": "code",
      "execution_count": null,
      "id": "348fea53-8937-4ffa-a4e3-a8a4e38a10ff",
      "metadata": {
        "id": "348fea53-8937-4ffa-a4e3-a8a4e38a10ff"
      },
      "outputs": [],
      "source": [
        "data=data.drop(columns=['education']) #redundant features removal"
      ]
    },
    {
      "cell_type": "code",
      "execution_count": null,
      "id": "066bd02f-cba5-4f2c-85d5-5753737ada68",
      "metadata": {
        "id": "066bd02f-cba5-4f2c-85d5-5753737ada68"
      },
      "outputs": [],
      "source": [
        "data"
      ]
    },
    {
      "cell_type": "code",
      "execution_count": null,
      "id": "1a6c51c5-6f9e-4e6c-b79a-b618ddc286e9",
      "metadata": {
        "id": "1a6c51c5-6f9e-4e6c-b79a-b618ddc286e9"
      },
      "outputs": [],
      "source": [
        "from sklearn.preprocessing import LabelEncoder   #import libarary\n",
        "encoder=LabelEncoder()                       #create object\n",
        "data['workclass']=encoder.fit_transform(data['workclass']) #7 categories   0,1, 2, 3, 4, 5, 6,\n",
        "data['marital-status']=encoder.fit_transform(data['marital-status'])   #3 categories 0, 1, 2\n",
        "data['occupation']=encoder.fit_transform(data['occupation'])\n",
        "data['relationship']=encoder.fit_transform(data['relationship'])      #5 categories  0, 1, 2, 3, 4\n",
        "data['race']=encoder.fit_transform(data['race'])\n",
        "data['gender']=encoder.fit_transform(data['gender'])    #2 catogories     0, 1\n",
        "data['native-country']=encoder.fit_transform(data['native-country'])"
      ]
    },
    {
      "cell_type": "code",
      "execution_count": null,
      "id": "eb998266-df6c-47d4-aebe-93a0af3a7907",
      "metadata": {
        "id": "eb998266-df6c-47d4-aebe-93a0af3a7907"
      },
      "outputs": [],
      "source": [
        "data"
      ]
    },
    {
      "cell_type": "code",
      "execution_count": null,
      "id": "c59e6d48-09cf-4633-9771-8983789b1e0c",
      "metadata": {
        "id": "c59e6d48-09cf-4633-9771-8983789b1e0c"
      },
      "outputs": [],
      "source": [
        "x=data.drop(columns=['income'])\n",
        "y=data['income']\n",
        "x"
      ]
    },
    {
      "cell_type": "code",
      "execution_count": null,
      "id": "a83f6aa2-fa20-46b8-8a29-7596f8339742",
      "metadata": {
        "id": "a83f6aa2-fa20-46b8-8a29-7596f8339742"
      },
      "outputs": [],
      "source": [
        "from sklearn.pipeline import Pipeline\n",
        "from sklearn.model_selection import train_test_split\n",
        "from sklearn.metrics import accuracy_score, classification_report\n",
        "from sklearn.linear_model import LogisticRegression\n",
        "from sklearn.ensemble import RandomForestClassifier, GradientBoostingClassifier\n",
        "from sklearn.neighbors import KNeighborsClassifier\n",
        "from sklearn.svm import SVC\n",
        "from sklearn.preprocessing import StandardScaler, OneHotEncoder\n",
        "\n",
        "X_train, X_test, y_train, y_test = train_test_split(x, y, test_size=0.2, random_state=42)\n",
        "\n",
        "models = {\n",
        "    \"LogisticRegression\": LogisticRegression(),\n",
        "    \"RandomForest\": RandomForestClassifier(),\n",
        "    \"KNN\": KNeighborsClassifier(),\n",
        "    \"SVM\": SVC(),\n",
        "    \"GradientBoosting\": GradientBoostingClassifier()\n",
        "}\n",
        "\n",
        "results = {}\n",
        "\n",
        "for name, model in models.items():\n",
        "    pipe = Pipeline([\n",
        "        ('scaler', StandardScaler()),\n",
        "        ('model', model)\n",
        "    ])\n",
        "\n",
        "    pipe.fit(X_train, y_train)\n",
        "    y_pred = pipe.predict(X_test)\n",
        "    acc = accuracy_score(y_test, y_pred)\n",
        "    results[name] = acc\n",
        "    print(f\"{name} Accuracy: {acc:.4f}\")\n",
        "    print(classification_report(y_test, y_pred))\n"
      ]
    },
    {
      "cell_type": "code",
      "execution_count": null,
      "id": "4b55bfad-e42e-4478-bd26-25d5634326e1",
      "metadata": {
        "id": "4b55bfad-e42e-4478-bd26-25d5634326e1"
      },
      "outputs": [],
      "source": [
        "import matplotlib.pyplot as plt\n",
        "plt.bar(results.keys(), results.values(), color='skyblue')\n",
        "plt.ylabel('Accuracy Score')\n",
        "plt.title('Model Comparison')\n",
        "plt.xticks(rotation=45)\n",
        "plt.grid(True)\n",
        "plt.show()\n"
      ]
    },
    {
      "cell_type": "code",
      "execution_count": null,
      "id": "83b15db1-be19-4a83-a0ba-67d28adf2c5d",
      "metadata": {
        "id": "83b15db1-be19-4a83-a0ba-67d28adf2c5d"
      },
      "outputs": [],
      "source": [
        "from sklearn.linear_model import LogisticRegression\n",
        "from sklearn.ensemble import RandomForestClassifier, GradientBoostingClassifier\n",
        "from sklearn.neighbors import KNeighborsClassifier\n",
        "from sklearn.svm import SVC\n",
        "from sklearn.model_selection import train_test_split\n",
        "from sklearn.metrics import accuracy_score\n",
        "import joblib\n",
        "\n",
        "# Train-test split\n",
        "X_train, X_test, y_train, y_test = train_test_split(x, y, test_size=0.2, random_state=42)\n",
        "\n",
        "# Define models\n",
        "models = {\n",
        "    \"LogisticRegression\": LogisticRegression(max_iter=1000),\n",
        "    \"RandomForest\": RandomForestClassifier(),\n",
        "    \"KNN\": KNeighborsClassifier(),\n",
        "    \"SVM\": SVC(),\n",
        "    \"GradientBoosting\": GradientBoostingClassifier()\n",
        "}\n",
        "\n",
        "results = {}\n",
        "\n",
        "# Train and evaluate\n",
        "for name, model in models.items():\n",
        "    model.fit(X_train, y_train)\n",
        "    preds = model.predict(X_test)\n",
        "    acc = accuracy_score(y_test, preds)\n",
        "    results[name] = acc\n",
        "    print(f\"{name}: {acc:.4f}\")\n",
        "\n",
        "# Get best model\n",
        "best_model_name = max(results, key=results.get)\n",
        "best_model = models[best_model_name]\n",
        "print(f\"\\n✅ Best model: {best_model_name} with accuracy {results[best_model_name]:.4f}\")\n",
        "\n",
        "# Save the best model\n",
        "joblib.dump(best_model, \"best_model.pkl\")\n",
        "print(\"✅ Saved best model as best_model.pkl\")\n"
      ]
    },
    {
      "cell_type": "code",
      "execution_count": null,
      "id": "7WT9qTBsSsM_",
      "metadata": {
        "id": "7WT9qTBsSsM_"
      },
      "outputs": [],
      "source": [
        "!pip install streamlit"
      ]
    },
    {
      "cell_type": "code",
      "execution_count": null,
      "id": "441634cd-cff1-4810-880b-f2ad3d850132",
      "metadata": {
        "id": "441634cd-cff1-4810-880b-f2ad3d850132"
      },
      "outputs": [],
      "source": [
        "%%writefile app.py\n",
        "import streamlit as st\n",
        "import pandas as pd\n",
        "import joblib\n",
        "\n",
        "# Load the trained model\n",
        "model = joblib.load(\"best_model.pkl\")\n",
        "\n",
        "st.set_page_config(page_title=\"Employee Salary Classification\", page_icon=\"💼\", layout=\"centered\")\n",
        "\n",
        "st.title(\"💼 Employee Salary Classification App\")\n",
        "st.markdown(\"Predict whether an employee earns >50K or ≤50K based on input features.\")\n",
        "\n",
        "# Sidebar inputs (these must match your training feature columns)\n",
        "st.sidebar.header(\"Input Employee Details\")\n",
        "\n",
        "# ✨ Replace these fields with your dataset's actual input columns\n",
        "age = st.sidebar.slider(\"Age\", 18, 65, 30)\n",
        "education = st.sidebar.selectbox(\"Education Level\", [\n",
        "    \"Bachelors\", \"Masters\", \"PhD\", \"HS-grad\", \"Assoc\", \"Some-college\"\n",
        "])\n",
        "occupation = st.sidebar.selectbox(\"Job Role\", [\n",
        "    \"Tech-support\", \"Craft-repair\", \"Other-service\", \"Sales\",\n",
        "    \"Exec-managerial\", \"Prof-specialty\", \"Handlers-cleaners\", \"Machine-op-inspct\",\n",
        "    \"Adm-clerical\", \"Farming-fishing\", \"Transport-moving\", \"Priv-house-serv\",\n",
        "    \"Protective-serv\", \"Armed-Forces\"\n",
        "])\n",
        "hours_per_week = st.sidebar.slider(\"Hours per week\", 1, 80, 40)\n",
        "experience = st.sidebar.slider(\"Years of Experience\", 0, 40, 5)\n",
        "\n",
        "# Build input DataFrame (⚠️ must match preprocessing of your training data)\n",
        "input_df = pd.DataFrame({\n",
        "    'age': [age],\n",
        "    'education': [education],\n",
        "    'occupation': [occupation],\n",
        "    'hours-per-week': [hours_per_week],\n",
        "    'experience': [experience]\n",
        "})\n",
        "\n",
        "st.write(\"### 🔎 Input Data\")\n",
        "st.write(input_df)\n",
        "\n",
        "# Predict button\n",
        "if st.button(\"Predict Salary Class\"):\n",
        "    prediction = model.predict(input_df)\n",
        "    st.success(f\"✅ Prediction: {prediction[0]}\")\n",
        "\n",
        "# Batch prediction\n",
        "st.markdown(\"---\")\n",
        "st.markdown(\"#### 📂 Batch Prediction\")\n",
        "uploaded_file = st.file_uploader(\"Upload a CSV file for batch prediction\", type=\"csv\")\n",
        "\n",
        "if uploaded_file is not None:\n",
        "    batch_data = pd.read_csv(uploaded_file)\n",
        "    st.write(\"Uploaded data preview:\", batch_data.head())\n",
        "    batch_preds = model.predict(batch_data)\n",
        "    batch_data['PredictedClass'] = batch_preds\n",
        "    st.write(\"✅ Predictions:\")\n",
        "    st.write(batch_data.head())\n",
        "    csv = batch_data.to_csv(index=False).encode('utf-8')\n",
        "    st.download_button(\"Download Predictions CSV\", csv, file_name='predicted_classes.csv', mime='text/csv')\n",
        "\n"
      ]
    },
    {
      "cell_type": "code",
      "execution_count": null,
      "id": "7386034b-01f9-4a48-ac22-896d02e3d0b5",
      "metadata": {
        "colab": {
          "background_save": true,
          "base_uri": "https://localhost:8080/"
        },
        "id": "7386034b-01f9-4a48-ac22-896d02e3d0b5",
        "outputId": "11c156f3-b93e-4e96-89b4-9fc6baf1b16f"
      },
      "outputs": [
        {
          "name": "stdout",
          "output_type": "stream",
          "text": [
            "\n",
            "Collecting usage statistics. To deactivate, set browser.gatherUsageStats to false.\n",
            "\u001b[0m\n",
            "\u001b[0m\n",
            "\u001b[34m\u001b[1m  You can now view your Streamlit app in your browser.\u001b[0m\n",
            "\u001b[0m\n",
            "\u001b[34m  Local URL: \u001b[0m\u001b[1mhttp://localhost:8501\u001b[0m\n",
            "\u001b[34m  Network URL: \u001b[0m\u001b[1mhttp://172.28.0.12:8501\u001b[0m\n",
            "\u001b[34m  External URL: \u001b[0m\u001b[1mhttp://34.74.35.131:8501\u001b[0m\n",
            "\u001b[0m\n"
          ]
        }
      ],
      "source": [
        "!streamlit run app.py"
      ]
    },
    {
      "cell_type": "code",
      "execution_count": null,
      "id": "205b16ee-152e-4c93-aea4-ace50d55c2d4",
      "metadata": {
        "id": "205b16ee-152e-4c93-aea4-ace50d55c2d4"
      },
      "outputs": [],
      "source": []
    }
  ],
  "metadata": {
    "colab": {
      "provenance": []
    },
    "kernelspec": {
      "display_name": "Python 3 (ipykernel)",
      "language": "python",
      "name": "python3"
    },
    "language_info": {
      "codemirror_mode": {
        "name": "ipython",
        "version": 3
      },
      "file_extension": ".py",
      "mimetype": "text/x-python",
      "name": "python",
      "nbconvert_exporter": "python",
      "pygments_lexer": "ipython3",
      "version": "3.12.0"
    }
  },
  "nbformat": 4,
  "nbformat_minor": 5
}